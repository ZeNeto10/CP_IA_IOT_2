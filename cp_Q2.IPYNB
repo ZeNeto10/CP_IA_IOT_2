{
 "cells": [
  {
   "cell_type": "code",
   "execution_count": 20,
   "metadata": {},
   "outputs": [
    {
     "name": "stdout",
     "output_type": "stream",
     "text": [
      "Requirement already satisfied: pandas in c:\\users\\zenet\\appdata\\local\\packages\\pythonsoftwarefoundation.python.3.11_qbz5n2kfra8p0\\localcache\\local-packages\\python311\\site-packages (from -r requirements.txt (line 1)) (2.2.3)\n",
      "Requirement already satisfied: numpy in c:\\users\\zenet\\appdata\\local\\packages\\pythonsoftwarefoundation.python.3.11_qbz5n2kfra8p0\\localcache\\local-packages\\python311\\site-packages (from -r requirements.txt (line 2)) (1.26.4)\n",
      "Requirement already satisfied: seaborn in c:\\users\\zenet\\appdata\\local\\packages\\pythonsoftwarefoundation.python.3.11_qbz5n2kfra8p0\\localcache\\local-packages\\python311\\site-packages (from -r requirements.txt (line 3)) (0.13.2)\n",
      "Requirement already satisfied: matplotlib in c:\\users\\zenet\\appdata\\local\\packages\\pythonsoftwarefoundation.python.3.11_qbz5n2kfra8p0\\localcache\\local-packages\\python311\\site-packages (from -r requirements.txt (line 4)) (3.9.2)\n",
      "Requirement already satisfied: torch in c:\\users\\zenet\\appdata\\local\\packages\\pythonsoftwarefoundation.python.3.11_qbz5n2kfra8p0\\localcache\\local-packages\\python311\\site-packages (from -r requirements.txt (line 5)) (2.4.1)\n",
      "Requirement already satisfied: python-dateutil>=2.8.2 in c:\\users\\zenet\\appdata\\local\\packages\\pythonsoftwarefoundation.python.3.11_qbz5n2kfra8p0\\localcache\\local-packages\\python311\\site-packages (from pandas->-r requirements.txt (line 1)) (2.9.0.post0)\n",
      "Requirement already satisfied: pytz>=2020.1 in c:\\users\\zenet\\appdata\\local\\packages\\pythonsoftwarefoundation.python.3.11_qbz5n2kfra8p0\\localcache\\local-packages\\python311\\site-packages (from pandas->-r requirements.txt (line 1)) (2024.2)\n",
      "Requirement already satisfied: tzdata>=2022.7 in c:\\users\\zenet\\appdata\\local\\packages\\pythonsoftwarefoundation.python.3.11_qbz5n2kfra8p0\\localcache\\local-packages\\python311\\site-packages (from pandas->-r requirements.txt (line 1)) (2024.2)\n",
      "Requirement already satisfied: contourpy>=1.0.1 in c:\\users\\zenet\\appdata\\local\\packages\\pythonsoftwarefoundation.python.3.11_qbz5n2kfra8p0\\localcache\\local-packages\\python311\\site-packages (from matplotlib->-r requirements.txt (line 4)) (1.3.0)\n",
      "Requirement already satisfied: cycler>=0.10 in c:\\users\\zenet\\appdata\\local\\packages\\pythonsoftwarefoundation.python.3.11_qbz5n2kfra8p0\\localcache\\local-packages\\python311\\site-packages (from matplotlib->-r requirements.txt (line 4)) (0.12.1)\n",
      "Requirement already satisfied: fonttools>=4.22.0 in c:\\users\\zenet\\appdata\\local\\packages\\pythonsoftwarefoundation.python.3.11_qbz5n2kfra8p0\\localcache\\local-packages\\python311\\site-packages (from matplotlib->-r requirements.txt (line 4)) (4.54.1)\n",
      "Requirement already satisfied: kiwisolver>=1.3.1 in c:\\users\\zenet\\appdata\\local\\packages\\pythonsoftwarefoundation.python.3.11_qbz5n2kfra8p0\\localcache\\local-packages\\python311\\site-packages (from matplotlib->-r requirements.txt (line 4)) (1.4.7)\n",
      "Requirement already satisfied: packaging>=20.0 in c:\\users\\zenet\\appdata\\local\\packages\\pythonsoftwarefoundation.python.3.11_qbz5n2kfra8p0\\localcache\\local-packages\\python311\\site-packages (from matplotlib->-r requirements.txt (line 4)) (24.1)\n",
      "Requirement already satisfied: pillow>=8 in c:\\users\\zenet\\appdata\\local\\packages\\pythonsoftwarefoundation.python.3.11_qbz5n2kfra8p0\\localcache\\local-packages\\python311\\site-packages (from matplotlib->-r requirements.txt (line 4)) (10.4.0)\n",
      "Requirement already satisfied: pyparsing>=2.3.1 in c:\\users\\zenet\\appdata\\local\\packages\\pythonsoftwarefoundation.python.3.11_qbz5n2kfra8p0\\localcache\\local-packages\\python311\\site-packages (from matplotlib->-r requirements.txt (line 4)) (3.1.4)\n",
      "Requirement already satisfied: filelock in c:\\users\\zenet\\appdata\\local\\packages\\pythonsoftwarefoundation.python.3.11_qbz5n2kfra8p0\\localcache\\local-packages\\python311\\site-packages (from torch->-r requirements.txt (line 5)) (3.16.1)\n",
      "Requirement already satisfied: typing-extensions>=4.8.0 in c:\\users\\zenet\\appdata\\local\\packages\\pythonsoftwarefoundation.python.3.11_qbz5n2kfra8p0\\localcache\\local-packages\\python311\\site-packages (from torch->-r requirements.txt (line 5)) (4.12.2)\n",
      "Requirement already satisfied: sympy in c:\\users\\zenet\\appdata\\local\\packages\\pythonsoftwarefoundation.python.3.11_qbz5n2kfra8p0\\localcache\\local-packages\\python311\\site-packages (from torch->-r requirements.txt (line 5)) (1.13.3)\n",
      "Requirement already satisfied: networkx in c:\\users\\zenet\\appdata\\local\\packages\\pythonsoftwarefoundation.python.3.11_qbz5n2kfra8p0\\localcache\\local-packages\\python311\\site-packages (from torch->-r requirements.txt (line 5)) (3.4.1)\n",
      "Requirement already satisfied: jinja2 in c:\\users\\zenet\\appdata\\local\\packages\\pythonsoftwarefoundation.python.3.11_qbz5n2kfra8p0\\localcache\\local-packages\\python311\\site-packages (from torch->-r requirements.txt (line 5)) (3.1.4)\n",
      "Requirement already satisfied: fsspec in c:\\users\\zenet\\appdata\\local\\packages\\pythonsoftwarefoundation.python.3.11_qbz5n2kfra8p0\\localcache\\local-packages\\python311\\site-packages (from torch->-r requirements.txt (line 5)) (2024.9.0)\n",
      "Requirement already satisfied: six>=1.5 in c:\\users\\zenet\\appdata\\local\\packages\\pythonsoftwarefoundation.python.3.11_qbz5n2kfra8p0\\localcache\\local-packages\\python311\\site-packages (from python-dateutil>=2.8.2->pandas->-r requirements.txt (line 1)) (1.16.0)\n",
      "Requirement already satisfied: MarkupSafe>=2.0 in c:\\users\\zenet\\appdata\\local\\packages\\pythonsoftwarefoundation.python.3.11_qbz5n2kfra8p0\\localcache\\local-packages\\python311\\site-packages (from jinja2->torch->-r requirements.txt (line 5)) (2.1.5)\n",
      "Requirement already satisfied: mpmath<1.4,>=1.1.0 in c:\\users\\zenet\\appdata\\local\\packages\\pythonsoftwarefoundation.python.3.11_qbz5n2kfra8p0\\localcache\\local-packages\\python311\\site-packages (from sympy->torch->-r requirements.txt (line 5)) (1.3.0)\n"
     ]
    }
   ],
   "source": [
    "! pip install -r requirements.txt"
   ]
  },
  {
   "cell_type": "code",
   "execution_count": 21,
   "metadata": {},
   "outputs": [],
   "source": [
    "import pandas as pd\n",
    "import numpy as np\n",
    "import plotly.express as px\n",
    "import torch\n",
    "import torch.nn as nn\n",
    "import torch.optim as optim\n",
    "from sklearn.model_selection import train_test_split\n",
    "from sklearn.preprocessing import StandardScaler"
   ]
  },
  {
   "cell_type": "code",
   "execution_count": 22,
   "metadata": {},
   "outputs": [
    {
     "name": "stdout",
     "output_type": "stream",
     "text": [
      "   Pregnancies  Glucose  BloodPressure  SkinThickness  Insulin   BMI  \\\n",
      "0            6      148             72             35        0  33.6   \n",
      "1            1       85             66             29        0  26.6   \n",
      "2            8      183             64              0        0  23.3   \n",
      "3            1       89             66             23       94  28.1   \n",
      "4            0      137             40             35      168  43.1   \n",
      "\n",
      "   DiabetesPedigreeFunction  Age  Outcome  \n",
      "0                     0.627   50        1  \n",
      "1                     0.351   31        0  \n",
      "2                     0.672   32        1  \n",
      "3                     0.167   21        0  \n",
      "4                     2.288   33        1  \n"
     ]
    }
   ],
   "source": [
    "df_diabetes = pd.read_csv(\"diabetes.csv\")\n",
    "print(df_diabetes.head())"
   ]
  },
  {
   "cell_type": "code",
   "execution_count": 23,
   "metadata": {},
   "outputs": [
    {
     "name": "stdout",
     "output_type": "stream",
     "text": [
      "       Pregnancies     Glucose  BloodPressure  SkinThickness     Insulin  \\\n",
      "count   768.000000  768.000000     768.000000     768.000000  768.000000   \n",
      "mean      3.845052  120.894531      69.105469      20.536458   79.799479   \n",
      "std       3.369578   31.972618      19.355807      15.952218  115.244002   \n",
      "min       0.000000    0.000000       0.000000       0.000000    0.000000   \n",
      "25%       1.000000   99.000000      62.000000       0.000000    0.000000   \n",
      "50%       3.000000  117.000000      72.000000      23.000000   30.500000   \n",
      "75%       6.000000  140.250000      80.000000      32.000000  127.250000   \n",
      "max      17.000000  199.000000     122.000000      99.000000  846.000000   \n",
      "\n",
      "              BMI  DiabetesPedigreeFunction         Age     Outcome  \n",
      "count  768.000000                768.000000  768.000000  768.000000  \n",
      "mean    31.992578                  0.471876   33.240885    0.348958  \n",
      "std      7.884160                  0.331329   11.760232    0.476951  \n",
      "min      0.000000                  0.078000   21.000000    0.000000  \n",
      "25%     27.300000                  0.243750   24.000000    0.000000  \n",
      "50%     32.000000                  0.372500   29.000000    0.000000  \n",
      "75%     36.600000                  0.626250   41.000000    1.000000  \n",
      "max     67.100000                  2.420000   81.000000    1.000000  \n"
     ]
    }
   ],
   "source": [
    "print(df_diabetes.describe())"
   ]
  },
  {
   "cell_type": "code",
   "execution_count": 24,
   "metadata": {},
   "outputs": [],
   "source": [
    "# Separar características (X) e rótulo (y)\n",
    "X = df_diabetes.drop('Outcome', axis=1).values\n",
    "y = df_diabetes['Outcome'].values\n",
    "\n",
    "# Dividir os dados em conjuntos de treino e teste\n",
    "X_train, X_test, y_train, y_test = train_test_split(X, y, test_size=0.2, random_state=42)\n",
    "\n",
    "# Normalizar os dados\n",
    "scaler = StandardScaler()\n",
    "X_train = scaler.fit_transform(X_train)\n",
    "X_test = scaler.transform(X_test)\n",
    "\n",
    "# Converter para tensores do PyTorch\n",
    "X_train_tensor = torch.FloatTensor(X_train)\n",
    "y_train_tensor = torch.FloatTensor(y_train).unsqueeze(1)  # Adiciona uma dimensão extra\n",
    "X_test_tensor = torch.FloatTensor(X_test)\n",
    "y_test_tensor = torch.FloatTensor(y_test).unsqueeze(1) "
   ]
  },
  {
   "cell_type": "code",
   "execution_count": 25,
   "metadata": {},
   "outputs": [],
   "source": [
    "class DiabetesNN(nn.Module):\n",
    "    def __init__(self):\n",
    "        super(DiabetesNN, self).__init__()\n",
    "        self.fc1 = nn.Linear(8, 16)  # Camada de entrada com 8 características e 16 neurônios\n",
    "        self.fc2 = nn.Linear(16, 8)   # Camada oculta com 8 neurônios\n",
    "        self.fc3 = nn.Linear(8, 1)     # Camada de saída com 1 neurônio (resultado)\n",
    "\n",
    "    def forward(self, x):\n",
    "        x = torch.relu(self.fc1(x))  # Função de ativação ReLU\n",
    "        x = torch.relu(self.fc2(x))  # Função de ativação ReLU\n",
    "        x = torch.sigmoid(self.fc3(x))  # Função de ativação Sigmoid para saída\n",
    "        return x\n"
   ]
  },
  {
   "cell_type": "code",
   "execution_count": 26,
   "metadata": {},
   "outputs": [],
   "source": [
    "# Instanciar a rede\n",
    "model = DiabetesNN()\n",
    "\n",
    "# Definir a função de perda e o otimizador\n",
    "criterion = nn.BCELoss()  # Função de perda binária\n",
    "optimizer = optim.Adam(model.parameters(), lr=0.001)  # Otimizador Adam\n"
   ]
  },
  {
   "cell_type": "code",
   "execution_count": 28,
   "metadata": {},
   "outputs": [
    {
     "name": "stdout",
     "output_type": "stream",
     "text": [
      "Época [10/100], Perda: 0.6478\n",
      "Época [20/100], Perda: 0.6356\n",
      "Época [30/100], Perda: 0.6224\n",
      "Época [40/100], Perda: 0.6082\n",
      "Época [50/100], Perda: 0.5931\n",
      "Época [60/100], Perda: 0.5771\n",
      "Época [70/100], Perda: 0.5606\n",
      "Época [80/100], Perda: 0.5437\n",
      "Época [90/100], Perda: 0.5267\n",
      "Época [100/100], Perda: 0.5103\n"
     ]
    }
   ],
   "source": [
    "# Treinamento do modelo\n",
    "for epoch in range(num_epochs):\n",
    "    # Zerar gradientes\n",
    "    optimizer.zero_grad()\n",
    "\n",
    "    # Forward pass\n",
    "    outputs = model(X_train_tensor).squeeze()  # Remover dimensões extras\n",
    "    loss = criterion(outputs, y_train_tensor.squeeze())  # Remover a dimensão extra do y_train_tensor\n",
    "\n",
    "    # Backward pass e otimização\n",
    "    loss.backward()\n",
    "    optimizer.step()\n",
    "\n",
    "    if (epoch + 1) % 10 == 0:\n",
    "        print(f'Época [{epoch + 1}/{num_epochs}], Perda: {loss.item():.4f}')\n"
   ]
  },
  {
   "cell_type": "code",
   "execution_count": 29,
   "metadata": {},
   "outputs": [
    {
     "name": "stdout",
     "output_type": "stream",
     "text": [
      "Acurácia do modelo no conjunto de teste: 0.56\n"
     ]
    }
   ],
   "source": [
    "with torch.no_grad():\n",
    "    model.eval()  # Muda o modelo para modo de avaliação\n",
    "    outputs = model(X_test_tensor).squeeze()\n",
    "    predicted = (outputs > 0.5).float()  # Classificar como 1 se a saída > 0.5\n",
    "\n",
    "    # Calcular a acurácia\n",
    "    accuracy = (predicted == y_test_tensor).float().mean()\n",
    "    print(f'Acurácia do modelo no conjunto de teste: {accuracy:.2f}')\n"
   ]
  },
  {
   "cell_type": "code",
   "execution_count": 32,
   "metadata": {},
   "outputs": [
    {
     "name": "stdout",
     "output_type": "stream",
     "text": [
      "Acurácia do modelo KNN no conjunto de teste: 0.69\n",
      "Matriz de Confusão:\n",
      " [[79 20]\n",
      " [28 27]]\n",
      "\n",
      "Relatório de Classificação:\n",
      "               precision    recall  f1-score   support\n",
      "\n",
      "           0       0.74      0.80      0.77        99\n",
      "           1       0.57      0.49      0.53        55\n",
      "\n",
      "    accuracy                           0.69       154\n",
      "   macro avg       0.66      0.64      0.65       154\n",
      "weighted avg       0.68      0.69      0.68       154\n",
      "\n"
     ]
    }
   ],
   "source": [
    "import pandas as pd\n",
    "from sklearn.model_selection import train_test_split\n",
    "from sklearn.preprocessing import StandardScaler\n",
    "from sklearn.neighbors import KNeighborsClassifier\n",
    "from sklearn.metrics import accuracy_score, confusion_matrix, classification_report\n",
    "\n",
    "# Carregar o dataset\n",
    "data = pd.read_csv('diabetes.csv')\n",
    "\n",
    "# Separar as features e o target\n",
    "X = data.drop('Outcome', axis=1).values\n",
    "y = data['Outcome'].values\n",
    "\n",
    "# Normalizar os dados\n",
    "scaler = StandardScaler()\n",
    "X_scaled = scaler.fit_transform(X)\n",
    "\n",
    "# Dividir o dataset em conjuntos de treino e teste\n",
    "X_train, X_test, y_train, y_test = train_test_split(X_scaled, y, test_size=0.2, random_state=42)\n",
    "\n",
    "# Instanciar o modelo KNN\n",
    "k = 5  # Número de vizinhos a considerar\n",
    "knn = KNeighborsClassifier(n_neighbors=k)\n",
    "\n",
    "# Treinar o modelo\n",
    "knn.fit(X_train, y_train)\n",
    "\n",
    "# Fazer previsões\n",
    "y_pred = knn.predict(X_test)\n",
    "\n",
    "# Calcular a acurácia\n",
    "accuracy = accuracy_score(y_test, y_pred)\n",
    "print(f'Acurácia do modelo KNN no conjunto de teste: {accuracy:.2f}')\n",
    "\n",
    "# Exibir a matriz de confusão e o relatório de classificação\n",
    "print(\"Matriz de Confusão:\\n\", confusion_matrix(y_test, y_pred))\n",
    "print(\"\\nRelatório de Classificação:\\n\", classification_report(y_test, y_pred))\n"
   ]
  },
  {
   "cell_type": "code",
   "execution_count": 33,
   "metadata": {},
   "outputs": [
    {
     "data": {
      "image/png": "[encoded data removed]",
      "text/plain": [
       "<Figure size 800x600 with 2 Axes>"
      ]
     },
     "metadata": {},
     "output_type": "display_data"
    }
   ],
   "source": [
    "import seaborn as sns\n",
    "import matplotlib.pyplot as plt\n",
    "\n",
    "# Criar a matriz de confusão\n",
    "conf_matrix = confusion_matrix(y_test, y_pred)\n",
    "\n",
    "# Plotar a matriz de confusão\n",
    "plt.figure(figsize=(8, 6))\n",
    "sns.heatmap(conf_matrix, annot=True, fmt='d', cmap='Blues', \n",
    "            xticklabels=['Sem Diabetes', 'Com Diabetes'], \n",
    "            yticklabels=['Sem Diabetes', 'Com Diabetes'])\n",
    "plt.xlabel('Predição')\n",
    "plt.ylabel('Real')\n",
    "plt.title('Matriz de Confusão')\n",
    "plt.show()\n"
   ]
  },
  {
   "cell_type": "code",
   "execution_count": 35,
   "metadata": {},
   "outputs": [
    {
     "name": "stdout",
     "output_type": "stream",
     "text": [
      "Época [10/100], Perda: 0.5901\n",
      "Época [20/100], Perda: 0.5031\n",
      "Época [30/100], Perda: 0.4652\n",
      "Época [40/100], Perda: 0.4374\n",
      "Época [50/100], Perda: 0.4207\n",
      "Época [60/100], Perda: 0.4095\n",
      "Época [70/100], Perda: 0.4000\n",
      "Época [80/100], Perda: 0.3893\n",
      "Época [90/100], Perda: 0.3766\n",
      "Época [100/100], Perda: 0.3631\n",
      "Acurácia do modelo no conjunto de teste: 0.77\n"
     ]
    }
   ],
   "source": [
    "import torch\n",
    "import torch.nn as nn\n",
    "import torch.optim as optim\n",
    "from sklearn.model_selection import train_test_split\n",
    "from sklearn.preprocessing import StandardScaler\n",
    "\n",
    "# Supondo que você tenha os dados em um DataFrame chamado 'df'\n",
    "X = df_diabetes.drop('Outcome', axis=1).values\n",
    "y = df_diabetes['Outcome'].values\n",
    "\n",
    "# Dividir os dados em conjuntos de treinamento e teste\n",
    "X_train, X_test, y_train, y_test = train_test_split(X, y, test_size=0.2, random_state=42)\n",
    "\n",
    "# Normalizar os dados\n",
    "scaler = StandardScaler()\n",
    "X_train = scaler.fit_transform(X_train)\n",
    "X_test = scaler.transform(X_test)\n",
    "\n",
    "# Converter para tensores\n",
    "X_train_tensor = torch.FloatTensor(X_train)\n",
    "y_train_tensor = torch.FloatTensor(y_train).unsqueeze(1)  # Alterar a dimensão\n",
    "X_test_tensor = torch.FloatTensor(X_test)\n",
    "y_test_tensor = torch.FloatTensor(y_test).unsqueeze(1)\n",
    "\n",
    "# Definir a rede neural\n",
    "class DiabetesNN(nn.Module):\n",
    "    def __init__(self):\n",
    "        super(DiabetesNN, self).__init__()\n",
    "        self.fc1 = nn.Linear(8, 16)  # 8 entradas (features), 16 neurônios na primeira camada\n",
    "        self.fc2 = nn.Linear(16, 8)   # 16 neurônios na segunda camada\n",
    "        self.fc3 = nn.Linear(8, 1)    # 8 neurônios na terceira camada, 1 saída (resultado)\n",
    "\n",
    "    def forward(self, x):\n",
    "        x = torch.relu(self.fc1(x))  # Função de ativação ReLU\n",
    "        x = torch.relu(self.fc2(x))\n",
    "        x = torch.sigmoid(self.fc3(x))  # Função de ativação sigmoide para a saída\n",
    "        return x\n",
    "\n",
    "# Inicializar o modelo\n",
    "model = DiabetesNN()\n",
    "\n",
    "# Definir a função de perda e o otimizador\n",
    "criterion = nn.BCELoss()  # Usar a perda binária\n",
    "optimizer = optim.Adam(model.parameters(), lr=0.01)\n",
    "\n",
    "# Treinar o modelo\n",
    "num_epochs = 100\n",
    "for epoch in range(num_epochs):\n",
    "    model.train()  # Colocar o modelo em modo de treinamento\n",
    "    \n",
    "    # Forward pass\n",
    "    outputs = model(X_train_tensor)\n",
    "    loss = criterion(outputs, y_train_tensor)  # Calcular a perda\n",
    "    \n",
    "    # Backward pass e otimização\n",
    "    optimizer.zero_grad()  # Zerar gradientes\n",
    "    loss.backward()  # Calcular gradientes\n",
    "    optimizer.step()  # Atualizar pesos\n",
    "\n",
    "    # Imprimir a perda a cada 10 épocas\n",
    "    if (epoch+1) % 10 == 0:\n",
    "        print(f'Época [{epoch+1}/{num_epochs}], Perda: {loss.item():.4f}')\n",
    "\n",
    "# Avaliar o modelo\n",
    "model.eval()  # Colocar o modelo em modo de avaliação\n",
    "with torch.no_grad():  # Desativar gradientes\n",
    "    y_pred = model(X_test_tensor).round()  # Fazer previsões e arredondar para 0 ou 1\n",
    "\n",
    "# Calcular a acurácia\n",
    "accuracy = (y_pred.eq(y_test_tensor).sum() / float(y_test_tensor.size(0))).item()\n",
    "print(f'Acurácia do modelo no conjunto de teste: {accuracy:.2f}')\n"
   ]
  }
 ],
 "metadata": {
  "kernelspec": {
   "display_name": "Python 3",
   "language": "python",
   "name": "python3"
  },
  "language_info": {
   "codemirror_mode": {
    "name": "ipython",
    "version": 3
   },
   "file_extension": ".py",
   "mimetype": "text/x-python",
   "name": "python",
   "nbconvert_exporter": "python",
   "pygments_lexer": "ipython3",
   "version": "3.11.9"
  }
 },
 "nbformat": 4,
 "nbformat_minor": 2
}
