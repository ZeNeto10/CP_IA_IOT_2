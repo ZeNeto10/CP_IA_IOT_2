{
  "cells": [
    {
      "cell_type": "markdown",
      "id": "dc2dbf66",
      "metadata": {
        "id": "dc2dbf66"
      },
      "source": [
        "# **CHECKPOINT 02 (Parte 01): Modelos com Redes Neurais com Keras**\n",
        "\n",
        "## Disciplina:  Disruptive Architectures: IOT, IOB e GENERATIVE AI\n",
        "\n",
        "## Turmas: 2TDSP (2o semestre de 2024)\n",
        "\n",
        "## Professor: André Tritiack\n",
        "\n",
        "## Pontuação Máxima: 4.00 pontos"
      ]
    },
    {
      "cell_type": "markdown",
      "id": "KM1GMV_NAJU4",
      "metadata": {
        "id": "KM1GMV_NAJU4"
      },
      "source": [
        "## INSIRA NESSA CÉLULA O NOME E O RM DOS INTEGRANTES DO GRUPO\n",
        "\n",
        "\n",
        "\n",
        "\n",
        "\n",
        "\n",
        "\n"
      ]
    },
    {
      "cell_type": "markdown",
      "id": "YfxY2cMoAGno",
      "metadata": {
        "id": "YfxY2cMoAGno"
      },
      "source": [
        "# **Introdução**\n",
        "\n",
        "Durante o semestre, estudamos o uso de algoritmos de **Aprendizado de Máquina Supervisionado**.\n",
        "\n",
        "- Regressão Logística\n",
        "\n",
        "https://scikit-learn.org/stable/modules/generated/sklearn.linear_model.LogisticRegression.html\n",
        "\n",
        "- Naive Bayes\n",
        "\n",
        "https://scikit-learn.org/stable/modules/naive_bayes.html\n",
        "\n",
        "- Máquina de Vetor Suporte (SVM)\n",
        "\n",
        "https://scikit-learn.org/stable/modules/svm.html#classification\n",
        "\n",
        "- Árvore de Decisão (Decision Tree)\n",
        "\n",
        "https://scikit-learn.org/stable/modules/tree.html\n",
        "\n",
        "- Random Forest\n",
        "\n",
        "https://scikit-learn.org/stable/modules/generated/sklearn.ensemble.RandomForestClassifier.html\n",
        "\n",
        "Cada uma dessas técnicas tem uma forte base matemática e conceitual. Os algoritmos foram propostos ao longo de diversas décadas e possuem diferentes cenários de aplicações.\n",
        "\n",
        "Nos exercícios a seguir, você e seu grupo receberão conjuntos de dados e precisarão aplicar duas dessas técnicas em cada exercício, utilizando como métrica a acurácia.\n",
        "\n",
        "Em seguida, utilizando a biblioteca Keras, crie modelos de Redes Neurais para classificação e compare os resultados.\n",
        "\n",
        "Altere o número de neurônios, a quantidade de camadas e as funções de ativação para comparar os resultados.\n",
        "\n",
        "Use o exemplo demonstrado em aula para criar sua solução.\n",
        "\n",
        "Importante: Somente serão aceitos arquivos .ipynb comentados, com justificativas e conclusões sobre as implementações"
      ]
    },
    {
      "cell_type": "markdown",
      "id": "6758884b",
      "metadata": {
        "id": "6758884b"
      },
      "source": [
        "------------------\n",
        "## <font color='red'> Atenção</fonte>:\n",
        "\n",
        "A seguir são apresentados dois datasets de pessoas reais.\n",
        "\n",
        "Ao se trabalhar com dados de pessoas devemos considerar a origem e os preceitos **bioéticos** envolvidos em sua coleta, construção e utilização.\n",
        "\n",
        "Além disso, é boa prática que os dados estejam anonimizados."
      ]
    },
    {
      "cell_type": "markdown",
      "id": "b889d7fc",
      "metadata": {
        "id": "b889d7fc"
      },
      "source": [
        "----------------------\n",
        "# **QUESTÃO 01**\n",
        "\n",
        "## **Diagnóstico médico: Problemas Ortopédicos na Coluna Vertebral**\n",
        "\n",
        "Esse dataset contém dados sobre problemas ortopédicos na coluna vertebral, diagnosticados no Centre Médico-Chirurgical de Réadaptation des Massues, em Lyon, France. Contém 6 atributos biomecânicos para 310 entradas anonimizadas, sendo 100 de pacientes considerados sem problemas (Normal - NO), 60 de pacientes com Hérnia de Disco (Disk Hernia - DH) e 150 de pacientes com Espondilolistese (Spondylolisthesis - SL).\n",
        "\n",
        "O dataset foi disponibilizado em um arquivo .csv, em anexo da tarefa.\n",
        "\n",
        "Maiores informações disponíveis em https://www.openml.org/d/1523"
      ]
    },
    {
      "cell_type": "code",
      "execution_count": 1,
      "id": "80da9918",
      "metadata": {},
      "outputs": [
        {
          "name": "stdout",
          "output_type": "stream",
          "text": [
            "Requirement already satisfied: pandas in c:\\users\\zenet\\appdata\\local\\packages\\pythonsoftwarefoundation.python.3.11_qbz5n2kfra8p0\\localcache\\local-packages\\python311\\site-packages (from -r requirements.txt (line 1)) (2.2.3)\n",
            "Requirement already satisfied: numpy in c:\\users\\zenet\\appdata\\local\\packages\\pythonsoftwarefoundation.python.3.11_qbz5n2kfra8p0\\localcache\\local-packages\\python311\\site-packages (from -r requirements.txt (line 2)) (2.1.1)\n",
            "Requirement already satisfied: seaborn in c:\\users\\zenet\\appdata\\local\\packages\\pythonsoftwarefoundation.python.3.11_qbz5n2kfra8p0\\localcache\\local-packages\\python311\\site-packages (from -r requirements.txt (line 3)) (0.13.2)\n",
            "Requirement already satisfied: matplotlib in c:\\users\\zenet\\appdata\\local\\packages\\pythonsoftwarefoundation.python.3.11_qbz5n2kfra8p0\\localcache\\local-packages\\python311\\site-packages (from -r requirements.txt (line 4)) (3.9.2)\n",
            "Requirement already satisfied: python-dateutil>=2.8.2 in c:\\users\\zenet\\appdata\\local\\packages\\pythonsoftwarefoundation.python.3.11_qbz5n2kfra8p0\\localcache\\local-packages\\python311\\site-packages (from pandas->-r requirements.txt (line 1)) (2.9.0.post0)\n",
            "Requirement already satisfied: pytz>=2020.1 in c:\\users\\zenet\\appdata\\local\\packages\\pythonsoftwarefoundation.python.3.11_qbz5n2kfra8p0\\localcache\\local-packages\\python311\\site-packages (from pandas->-r requirements.txt (line 1)) (2024.2)\n",
            "Requirement already satisfied: tzdata>=2022.7 in c:\\users\\zenet\\appdata\\local\\packages\\pythonsoftwarefoundation.python.3.11_qbz5n2kfra8p0\\localcache\\local-packages\\python311\\site-packages (from pandas->-r requirements.txt (line 1)) (2024.2)\n",
            "Requirement already satisfied: contourpy>=1.0.1 in c:\\users\\zenet\\appdata\\local\\packages\\pythonsoftwarefoundation.python.3.11_qbz5n2kfra8p0\\localcache\\local-packages\\python311\\site-packages (from matplotlib->-r requirements.txt (line 4)) (1.3.0)\n",
            "Requirement already satisfied: cycler>=0.10 in c:\\users\\zenet\\appdata\\local\\packages\\pythonsoftwarefoundation.python.3.11_qbz5n2kfra8p0\\localcache\\local-packages\\python311\\site-packages (from matplotlib->-r requirements.txt (line 4)) (0.12.1)\n",
            "Requirement already satisfied: fonttools>=4.22.0 in c:\\users\\zenet\\appdata\\local\\packages\\pythonsoftwarefoundation.python.3.11_qbz5n2kfra8p0\\localcache\\local-packages\\python311\\site-packages (from matplotlib->-r requirements.txt (line 4)) (4.54.1)\n",
            "Requirement already satisfied: kiwisolver>=1.3.1 in c:\\users\\zenet\\appdata\\local\\packages\\pythonsoftwarefoundation.python.3.11_qbz5n2kfra8p0\\localcache\\local-packages\\python311\\site-packages (from matplotlib->-r requirements.txt (line 4)) (1.4.7)\n",
            "Requirement already satisfied: packaging>=20.0 in c:\\users\\zenet\\appdata\\local\\packages\\pythonsoftwarefoundation.python.3.11_qbz5n2kfra8p0\\localcache\\local-packages\\python311\\site-packages (from matplotlib->-r requirements.txt (line 4)) (24.1)\n",
            "Requirement already satisfied: pillow>=8 in c:\\users\\zenet\\appdata\\local\\packages\\pythonsoftwarefoundation.python.3.11_qbz5n2kfra8p0\\localcache\\local-packages\\python311\\site-packages (from matplotlib->-r requirements.txt (line 4)) (10.4.0)\n",
            "Requirement already satisfied: pyparsing>=2.3.1 in c:\\users\\zenet\\appdata\\local\\packages\\pythonsoftwarefoundation.python.3.11_qbz5n2kfra8p0\\localcache\\local-packages\\python311\\site-packages (from matplotlib->-r requirements.txt (line 4)) (3.1.4)\n",
            "Requirement already satisfied: six>=1.5 in c:\\users\\zenet\\appdata\\local\\packages\\pythonsoftwarefoundation.python.3.11_qbz5n2kfra8p0\\localcache\\local-packages\\python311\\site-packages (from python-dateutil>=2.8.2->pandas->-r requirements.txt (line 1)) (1.16.0)\n"
          ]
        }
      ],
      "source": [
        "! pip install -r requirements.txt"
      ]
    },
    {
      "cell_type": "markdown",
      "id": "HdVEcF9ktMzy",
      "metadata": {
        "id": "HdVEcF9ktMzy"
      },
      "source": [
        "## Parte 1: Importação de bibliotecas"
      ]
    },
    {
      "cell_type": "code",
      "execution_count": 6,
      "id": "c8697b97",
      "metadata": {},
      "outputs": [],
      "source": [
        "import pandas as pd\n",
        "import numpy as np\n",
        "import matplotlib.pyplot as plt\n",
        "import seaborn as sns\n",
        "from sklearn.preprocessing import StandardScaler"
      ]
    },
    {
      "cell_type": "markdown",
      "id": "lyAO6Maku3f7",
      "metadata": {
        "id": "lyAO6Maku3f7"
      },
      "source": [
        "# Parte 2: Importação dos dados e Análise Exploratória\n"
      ]
    },
    {
      "cell_type": "code",
      "execution_count": 3,
      "id": "_9bi1ygoyN97",
      "metadata": {
        "id": "_9bi1ygoyN97"
      },
      "outputs": [
        {
          "name": "stdout",
          "output_type": "stream",
          "text": [
            "   Unnamed: 0         V1         V2         V3         V4          V5  \\\n",
            "0           0  63.027818  22.552586  39.609117  40.475232   98.672917   \n",
            "1           1  39.056951  10.060991  25.015378  28.995960  114.405425   \n",
            "2           2  68.832021  22.218482  50.092194  46.613539  105.985136   \n",
            "3           3  69.297008  24.652878  44.311238  44.644130  101.868495   \n",
            "4           4  49.712859   9.652075  28.317406  40.060784  108.168725   \n",
            "\n",
            "          V6   diagnostic  \n",
            "0  -0.254400  Disk Hernia  \n",
            "1   4.564259  Disk Hernia  \n",
            "2  -3.530317  Disk Hernia  \n",
            "3  11.211523  Disk Hernia  \n",
            "4   7.918501  Disk Hernia  \n"
          ]
        }
      ],
      "source": [
        "df = pd.read_csv(\"questao_01.csv\")\n",
        "print(df.head())"
      ]
    },
    {
      "cell_type": "code",
      "execution_count": 4,
      "id": "701cfb3c",
      "metadata": {
        "id": "701cfb3c"
      },
      "outputs": [
        {
          "name": "stdout",
          "output_type": "stream",
          "text": [
            "Unnamed: 0    0\n",
            "V1            0\n",
            "V2            0\n",
            "V3            0\n",
            "V4            0\n",
            "V5            0\n",
            "V6            0\n",
            "diagnostic    0\n",
            "dtype: int64\n"
          ]
        }
      ],
      "source": [
        "print(df.isnull().sum())"
      ]
    },
    {
      "cell_type": "code",
      "execution_count": 5,
      "id": "Kgb_RyS13HSF",
      "metadata": {
        "id": "Kgb_RyS13HSF"
      },
      "outputs": [
        {
          "name": "stdout",
          "output_type": "stream",
          "text": [
            "          V1         V2         V3         V4          V5         V6  \\\n",
            "0  63.027818  22.552586  39.609117  40.475232   98.672917  -0.254400   \n",
            "1  39.056951  10.060991  25.015378  28.995960  114.405425   4.564259   \n",
            "2  68.832021  22.218482  50.092194  46.613539  105.985136  -3.530317   \n",
            "3  69.297008  24.652878  44.311238  44.644130  101.868495  11.211523   \n",
            "4  49.712859   9.652075  28.317406  40.060784  108.168725   7.918501   \n",
            "\n",
            "   diagnostic  \n",
            "0           0  \n",
            "1           0  \n",
            "2           0  \n",
            "3           0  \n",
            "4           0  \n"
          ]
        }
      ],
      "source": [
        "df = df.drop('Unnamed: 0', axis=1)\n",
        "\n",
        "df['diagnostic'] = df['diagnostic'].astype('category').cat.codes\n",
        "\n",
        "print(df.head())\n"
      ]
    },
    {
      "cell_type": "code",
      "execution_count": 7,
      "id": "nB735ftm3HJ3",
      "metadata": {
        "id": "nB735ftm3HJ3"
      },
      "outputs": [
        {
          "name": "stdout",
          "output_type": "stream",
          "text": [
            "         V1        V2        V3        V4        V5        V6  diagnostic\n",
            "0  0.147086  0.501369 -0.665177 -0.184950 -1.447647 -0.708059           0\n",
            "1 -1.245864 -0.748769 -1.453001 -1.041521 -0.264385 -0.579556           0\n",
            "2  0.484370  0.467932 -0.099262  0.273083 -0.897686 -0.795421           0\n",
            "3  0.511390  0.711562 -0.411339  0.126128 -1.207303 -0.402288           0\n",
            "4 -0.626648 -0.789693 -1.274745 -0.215876 -0.733455 -0.490106           0\n"
          ]
        }
      ],
      "source": [
        "scaler = StandardScaler()\n",
        "\n",
        "df.iloc[:, :-1] = scaler.fit_transform(df.iloc[:, :-1])\n",
        "\n",
        "print(df.head())"
      ]
    },
    {
      "cell_type": "markdown",
      "id": "8px5ow4dyi8q",
      "metadata": {
        "id": "8px5ow4dyi8q"
      },
      "source": [
        "# Parte 3: Pré Processamento\n",
        "\n",
        "\n"
      ]
    },
    {
      "cell_type": "code",
      "execution_count": null,
      "id": "e5MwbJYczyAv",
      "metadata": {
        "id": "e5MwbJYczyAv"
      },
      "outputs": [],
      "source": []
    },
    {
      "cell_type": "code",
      "execution_count": null,
      "id": "9bu7arnr1A2m",
      "metadata": {
        "id": "9bu7arnr1A2m"
      },
      "outputs": [],
      "source": []
    },
    {
      "cell_type": "code",
      "execution_count": null,
      "id": "HMbdkDum26oq",
      "metadata": {
        "id": "HMbdkDum26oq"
      },
      "outputs": [],
      "source": []
    },
    {
      "cell_type": "code",
      "execution_count": null,
      "id": "pUYwrBcy26fS",
      "metadata": {
        "id": "pUYwrBcy26fS"
      },
      "outputs": [],
      "source": []
    },
    {
      "cell_type": "markdown",
      "id": "QWN5ggIR1Pt1",
      "metadata": {
        "id": "QWN5ggIR1Pt1"
      },
      "source": [
        "# Parte 4: Criação das variáveis com os dados de entrada (X) e dados de saída (y) e separação de dados de treinamento e teste."
      ]
    },
    {
      "cell_type": "code",
      "execution_count": null,
      "id": "bb1129a8",
      "metadata": {
        "id": "bb1129a8"
      },
      "outputs": [],
      "source": []
    },
    {
      "cell_type": "code",
      "execution_count": null,
      "id": "vowBo3p12L2_",
      "metadata": {
        "id": "vowBo3p12L2_"
      },
      "outputs": [],
      "source": []
    },
    {
      "cell_type": "code",
      "execution_count": null,
      "id": "N9EHjvF-2Qsp",
      "metadata": {
        "id": "N9EHjvF-2Qsp"
      },
      "outputs": [],
      "source": []
    },
    {
      "cell_type": "code",
      "execution_count": null,
      "id": "_qHxhRrD2kpe",
      "metadata": {
        "id": "_qHxhRrD2kpe"
      },
      "outputs": [],
      "source": []
    },
    {
      "cell_type": "markdown",
      "id": "mgTiGQLa2HJE",
      "metadata": {
        "id": "mgTiGQLa2HJE"
      },
      "source": [
        "# Parte 5.1: Criação do primeiro modelo, utilizando o primeiro algoritmo.\n",
        "\n",
        "\n",
        "\n",
        "\n"
      ]
    },
    {
      "cell_type": "code",
      "execution_count": null,
      "id": "r3yTZSeQ5r83",
      "metadata": {
        "id": "r3yTZSeQ5r83"
      },
      "outputs": [],
      "source": []
    },
    {
      "cell_type": "code",
      "execution_count": null,
      "id": "rbtCGEvH13Tr",
      "metadata": {
        "id": "rbtCGEvH13Tr"
      },
      "outputs": [],
      "source": []
    },
    {
      "cell_type": "code",
      "execution_count": null,
      "id": "LSoUZ-To2lYx",
      "metadata": {
        "id": "LSoUZ-To2lYx"
      },
      "outputs": [],
      "source": []
    },
    {
      "cell_type": "code",
      "execution_count": null,
      "id": "jIuhpCTX2lRo",
      "metadata": {
        "id": "jIuhpCTX2lRo"
      },
      "outputs": [],
      "source": []
    },
    {
      "cell_type": "markdown",
      "id": "Jkg7YAnh5w6b",
      "metadata": {
        "id": "Jkg7YAnh5w6b"
      },
      "source": [
        "# Parte 5.2: Criação do segundo modelo, utilizando o segundo algoritmo.\n",
        "\n"
      ]
    },
    {
      "cell_type": "code",
      "execution_count": null,
      "id": "zIV_aHwV6Cm3",
      "metadata": {
        "id": "zIV_aHwV6Cm3"
      },
      "outputs": [],
      "source": []
    },
    {
      "cell_type": "code",
      "execution_count": null,
      "id": "S-0ESQdD14Er",
      "metadata": {
        "id": "S-0ESQdD14Er"
      },
      "outputs": [],
      "source": []
    },
    {
      "cell_type": "code",
      "execution_count": null,
      "id": "YAIFcAlM2ma3",
      "metadata": {
        "id": "YAIFcAlM2ma3"
      },
      "outputs": [],
      "source": []
    },
    {
      "cell_type": "code",
      "execution_count": null,
      "id": "PHnsNmWA2mRu",
      "metadata": {
        "id": "PHnsNmWA2mRu"
      },
      "outputs": [],
      "source": []
    },
    {
      "cell_type": "markdown",
      "id": "mER8WPQK6YlI",
      "metadata": {
        "id": "mER8WPQK6YlI"
      },
      "source": [
        "# Parte 5.3: Criação da arquitetura e treinamento do modelo de Redes Neurais com Keras"
      ]
    },
    {
      "cell_type": "code",
      "execution_count": null,
      "id": "T9EGZwMj7JMC",
      "metadata": {
        "id": "T9EGZwMj7JMC"
      },
      "outputs": [],
      "source": []
    },
    {
      "cell_type": "code",
      "execution_count": null,
      "id": "PbBMR9Lw14lP",
      "metadata": {
        "id": "PbBMR9Lw14lP"
      },
      "outputs": [],
      "source": []
    },
    {
      "cell_type": "code",
      "execution_count": null,
      "id": "Fv99FSXf20Ko",
      "metadata": {
        "id": "Fv99FSXf20Ko"
      },
      "outputs": [],
      "source": []
    },
    {
      "cell_type": "code",
      "execution_count": null,
      "id": "ZT9uz2gD20Bn",
      "metadata": {
        "id": "ZT9uz2gD20Bn"
      },
      "outputs": [],
      "source": []
    },
    {
      "cell_type": "markdown",
      "id": "sZfU3Eim3kh3",
      "metadata": {
        "id": "sZfU3Eim3kh3"
      },
      "source": [
        "# Parte 6: Comparação das métricas dos modelos (utilize somente a acurácia nesse exemplo)"
      ]
    },
    {
      "cell_type": "code",
      "execution_count": null,
      "id": "3PZxe14a36w7",
      "metadata": {
        "id": "3PZxe14a36w7"
      },
      "outputs": [],
      "source": []
    },
    {
      "cell_type": "code",
      "execution_count": null,
      "id": "wOASV8dC36q1",
      "metadata": {
        "id": "wOASV8dC36q1"
      },
      "outputs": [],
      "source": []
    },
    {
      "cell_type": "code",
      "execution_count": null,
      "id": "X1m3kk3r36k1",
      "metadata": {
        "id": "X1m3kk3r36k1"
      },
      "outputs": [],
      "source": []
    },
    {
      "cell_type": "code",
      "execution_count": null,
      "id": "QybWDkHO36dl",
      "metadata": {
        "id": "QybWDkHO36dl"
      },
      "outputs": [],
      "source": []
    },
    {
      "cell_type": "markdown",
      "id": "b895d716",
      "metadata": {
        "id": "b895d716"
      },
      "source": [
        "----------------------\n",
        "# **QUESTÃO 02**\n",
        "\n",
        "## **Diagnóstico médico: Diabetes no povo Pima**\n",
        "\n",
        "Esse dataset contém dados sobre incidência de diabetes em mulheres do Povo Pima (índios nativos norte americanos originários do atual Estado do Arizona). Contém 8 atributos biomédicos para 768 entradas anonimizadas, sendo 500 testados negativo para diabetes e 268 testados positivo para diabetes.\n",
        "\n",
        "Faça o download do dataset:\n",
        "\n",
        "https://www.kaggle.com/datasets/uciml/pima-indians-diabetes-database"
      ]
    },
    {
      "cell_type": "code",
      "execution_count": null,
      "id": "mJ2UOyox-iA3",
      "metadata": {
        "id": "mJ2UOyox-iA3"
      },
      "outputs": [],
      "source": []
    },
    {
      "cell_type": "code",
      "execution_count": null,
      "id": "fYBlkeJT-h2g",
      "metadata": {
        "id": "fYBlkeJT-h2g"
      },
      "outputs": [],
      "source": []
    },
    {
      "cell_type": "code",
      "execution_count": null,
      "id": "YRLtcRuE3-dx",
      "metadata": {
        "id": "YRLtcRuE3-dx"
      },
      "outputs": [],
      "source": []
    },
    {
      "cell_type": "code",
      "execution_count": null,
      "id": "chECszo-3-Sp",
      "metadata": {
        "id": "chECszo-3-Sp"
      },
      "outputs": [],
      "source": []
    }
  ],
  "metadata": {
    "colab": {
      "provenance": []
    },
    "kernelspec": {
      "display_name": "Python 3",
      "language": "python",
      "name": "python3"
    },
    "language_info": {
      "codemirror_mode": {
        "name": "ipython",
        "version": 3
      },
      "file_extension": ".py",
      "mimetype": "text/x-python",
      "name": "python",
      "nbconvert_exporter": "python",
      "pygments_lexer": "ipython3",
      "version": "3.11.9"
    }
  },
  "nbformat": 4,
  "nbformat_minor": 5
}
